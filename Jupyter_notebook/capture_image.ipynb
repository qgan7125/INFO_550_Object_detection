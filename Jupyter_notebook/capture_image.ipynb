{
 "cells": [
  {
   "cell_type": "markdown",
   "metadata": {},
   "source": [
    "# This file uses opencv to capture image for dataset"
   ]
  },
  {
   "cell_type": "code",
   "execution_count": null,
   "metadata": {},
   "outputs": [],
   "source": [
    "import torch\n",
    "from matplotlib import pyplot as plt\n",
    "import numpy as np\n",
    "import cv2\n",
    "\n",
    "import uuid   # Unique identifier\n",
    "import os\n",
    "import time"
   ]
  },
  {
   "cell_type": "code",
   "execution_count": 21,
   "metadata": {},
   "outputs": [],
   "source": [
    "IMAGES_PATH = os.path.join('..\\dataset') #/data/images\n",
    "\n",
    "# for train customized categories, please change the name\n",
    "labels = ['Pikachu', \"Squirtle\", \"Bulbasaur\"]\n",
    "number_imgs = 10"
   ]
  },
  {
   "cell_type": "code",
   "execution_count": 24,
   "metadata": {},
   "outputs": [
    {
     "name": "stdout",
     "output_type": "stream",
     "text": [
      "Collecting images for Ok\n",
      "Collecting images for Ok, image number 0\n",
      "Collecting images for Ok, image number 1\n",
      "Collecting images for Ok, image number 2\n",
      "Collecting images for Ok, image number 3\n",
      "Collecting images for Ok, image number 4\n",
      "Collecting images for Ok, image number 5\n",
      "Collecting images for Ok, image number 6\n",
      "Collecting images for Ok, image number 7\n",
      "Collecting images for Ok, image number 8\n",
      "Collecting images for Ok, image number 9\n",
      "Collecting images for ThumbUp\n",
      "Collecting images for ThumbUp, image number 0\n",
      "Collecting images for ThumbUp, image number 1\n",
      "Collecting images for ThumbUp, image number 2\n",
      "Collecting images for ThumbUp, image number 3\n",
      "Collecting images for ThumbUp, image number 4\n",
      "Collecting images for ThumbUp, image number 5\n",
      "Collecting images for ThumbUp, image number 6\n",
      "Collecting images for ThumbUp, image number 7\n",
      "Collecting images for ThumbUp, image number 8\n",
      "Collecting images for ThumbUp, image number 9\n",
      "Collecting images for Victory\n",
      "Collecting images for Victory, image number 0\n",
      "Collecting images for Victory, image number 1\n",
      "Collecting images for Victory, image number 2\n",
      "Collecting images for Victory, image number 3\n",
      "Collecting images for Victory, image number 4\n",
      "Collecting images for Victory, image number 5\n",
      "Collecting images for Victory, image number 6\n",
      "Collecting images for Victory, image number 7\n",
      "Collecting images for Victory, image number 8\n",
      "Collecting images for Victory, image number 9\n"
     ]
    }
   ],
   "source": [
    "cap = cv2.VideoCapture(0)\n",
    "# Loop through labels\n",
    "for label in labels:\n",
    "    print('Collecting images for {}'.format(label))\n",
    "    time.sleep(5)\n",
    "    \n",
    "    # Loop through image range\n",
    "    for img_num in range(number_imgs):\n",
    "        print('Collecting images for {}, image number {}'.format(label, img_num))\n",
    "        \n",
    "        # Webcam feed\n",
    "        ret, frame = cap.read()\n",
    "        \n",
    "        # Naming out image path\n",
    "        imgname = os.path.join(IMAGES_PATH, label+'.'+str(uuid.uuid1())+'.jpg')\n",
    "        \n",
    "        # Writes out image to file \n",
    "        cv2.imwrite(imgname, frame)\n",
    "        \n",
    "        # Render to the screen\n",
    "        cv2.imshow('Image Collection', frame)\n",
    "        \n",
    "        # 2 second delay between captures\n",
    "        time.sleep(3)\n",
    "\n",
    "        if cv2.waitKey(10) & 0xFF == ord('q'):\n",
    "            break\n",
    "cap.release()\n",
    "cv2.destroyAllWindows()"
   ]
  }
 ],
 "metadata": {
  "interpreter": {
   "hash": "28a81fdb9066e357e194aaab6a50d6d917dab47d619fef434e0af54d604727f0"
  },
  "kernelspec": {
   "display_name": "ODenv",
   "language": "python",
   "name": "python3"
  },
  "language_info": {
   "codemirror_mode": {
    "name": "ipython",
    "version": 3
   },
   "file_extension": ".py",
   "mimetype": "text/x-python",
   "name": "python",
   "nbconvert_exporter": "python",
   "pygments_lexer": "ipython3",
   "version": "3.9.5"
  },
  "orig_nbformat": 4
 },
 "nbformat": 4,
 "nbformat_minor": 2
}
